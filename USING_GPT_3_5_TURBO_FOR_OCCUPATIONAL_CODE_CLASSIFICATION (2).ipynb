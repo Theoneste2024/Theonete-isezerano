{
 "cells": [
  {
   "cell_type": "markdown",
   "metadata": {},
   "source": [
    "# PHASE 1"
   ]
  },
  {
   "cell_type": "markdown",
   "metadata": {},
   "source": [
    "#### Phase 1 began with installing the OpenAI library and importing the necessary dependencies for our project. We then accessed the OpenAI API key and tested it by prompting a question to verify if GPT-3.5 Turbo could generate a response."
   ]
  },
  {
   "cell_type": "code",
   "execution_count": 69,
   "metadata": {
    "colab": {
     "base_uri": "https://localhost:8080/",
     "height": 551
    },
    "id": "mNAHCX4lQnkE",
    "outputId": "7b5e23c3-01ab-4309-ab47-01a945c065a2",
    "scrolled": true
   },
   "outputs": [
    {
     "name": "stdout",
     "output_type": "stream",
     "text": [
      "Requirement already satisfied: openai==0.28 in c:\\users\\user\\anaconda3\\lib\\site-packages (0.28.0)\n",
      "Requirement already satisfied: tqdm in c:\\users\\user\\anaconda3\\lib\\site-packages (from openai==0.28) (4.64.0)\n",
      "Requirement already satisfied: aiohttp in c:\\users\\user\\anaconda3\\lib\\site-packages (from openai==0.28) (3.8.1)\n",
      "Requirement already satisfied: requests>=2.20 in c:\\users\\user\\anaconda3\\lib\\site-packages (from openai==0.28) (2.27.1)\n",
      "Requirement already satisfied: certifi>=2017.4.17 in c:\\users\\user\\anaconda3\\lib\\site-packages (from requests>=2.20->openai==0.28) (2021.10.8)\n",
      "Requirement already satisfied: urllib3<1.27,>=1.21.1 in c:\\users\\user\\anaconda3\\lib\\site-packages (from requests>=2.20->openai==0.28) (1.26.9)\n",
      "Requirement already satisfied: charset-normalizer~=2.0.0 in c:\\users\\user\\anaconda3\\lib\\site-packages (from requests>=2.20->openai==0.28) (2.0.4)\n",
      "Requirement already satisfied: idna<4,>=2.5 in c:\\users\\user\\anaconda3\\lib\\site-packages (from requests>=2.20->openai==0.28) (3.3)\n",
      "Requirement already satisfied: async-timeout<5.0,>=4.0.0a3 in c:\\users\\user\\anaconda3\\lib\\site-packages (from aiohttp->openai==0.28) (4.0.1)\n",
      "Requirement already satisfied: frozenlist>=1.1.1 in c:\\users\\user\\anaconda3\\lib\\site-packages (from aiohttp->openai==0.28) (1.2.0)\n",
      "Requirement already satisfied: aiosignal>=1.1.2 in c:\\users\\user\\anaconda3\\lib\\site-packages (from aiohttp->openai==0.28) (1.2.0)\n",
      "Requirement already satisfied: multidict<7.0,>=4.5 in c:\\users\\user\\anaconda3\\lib\\site-packages (from aiohttp->openai==0.28) (5.1.0)\n",
      "Requirement already satisfied: attrs>=17.3.0 in c:\\users\\user\\anaconda3\\lib\\site-packages (from aiohttp->openai==0.28) (21.4.0)\n",
      "Requirement already satisfied: yarl<2.0,>=1.0 in c:\\users\\user\\anaconda3\\lib\\site-packages (from aiohttp->openai==0.28) (1.6.3)\n",
      "Requirement already satisfied: typing-extensions>=3.6.5 in c:\\users\\user\\anaconda3\\lib\\site-packages (from async-timeout<5.0,>=4.0.0a3->aiohttp->openai==0.28) (4.1.1)\n",
      "Requirement already satisfied: colorama in c:\\users\\user\\anaconda3\\lib\\site-packages (from tqdm->openai==0.28) (0.4.4)\n"
     ]
    }
   ],
   "source": [
    "# installing the openai\n",
    "#!pip install openai\n",
    "!pip install openai==0.28"
   ]
  },
  {
   "cell_type": "code",
   "execution_count": 70,
   "metadata": {
    "id": "nFddw177NPUs"
   },
   "outputs": [],
   "source": [
    "import pandas as pd\n",
    "import openai\n",
    "import os\n",
    "import ast\n",
    "import numpy as np\n",
    "import pdb\n",
    "\n",
    "client = openai"
   ]
  },
  {
   "cell_type": "code",
   "execution_count": 71,
   "metadata": {
    "id": "l4cRppq6P7X4"
   },
   "outputs": [],
   "source": [
    "# Accessing your api_key\n",
    "openai.api_key = \"openai_api_key\""
   ]
  },
  {
   "cell_type": "code",
   "execution_count": 72,
   "metadata": {
    "colab": {
     "base_uri": "https://localhost:8080/",
     "height": 35
    },
    "id": "zln1iU1xP5mt",
    "outputId": "b4af9501-4c28-48e7-d420-71fd7b9fac35"
   },
   "outputs": [
    {
     "data": {
      "text/plain": [
       "'The capital city of Rwanda is Kigali.'"
      ]
     },
     "execution_count": 72,
     "metadata": {},
     "output_type": "execute_result"
    }
   ],
   "source": [
    "# Testing the accessed gpt-3.5-turbo for prompting \n",
    "question = \"what is the capital city of Rwanda?\"\n",
    "\n",
    "response = client.ChatCompletion.create(\n",
    "    model = \"gpt-3.5-turbo\",\n",
    "    messages = [{\"role\": \"system\", \"content\": question}]\n",
    ")\n",
    "response.choices[0].message.content"
   ]
  },
  {
   "cell_type": "code",
   "execution_count": 75,
   "metadata": {
    "colab": {
     "base_uri": "https://localhost:8080/",
     "height": 52
    },
    "id": "EXC6seNSSueM",
    "outputId": "f06d30f2-2911-4d88-e518-cf38230dcdd4"
   },
   "outputs": [
    {
     "data": {
      "text/plain": [
       "'It is generally recommended to set the thermostat in your house to at least 55-60 degrees Fahrenheit to prevent pipes from freezing during vacation.'"
      ]
     },
     "execution_count": 75,
     "metadata": {},
     "output_type": "execute_result"
    }
   ],
   "source": [
    "question_2 = \"What temperature should i set my house on vacation so the pipes don't freeze?\"\n",
    "response = client.ChatCompletion.create(\n",
    "    model = \"gpt-3.5-turbo\",\n",
    "    messages = [{\"role\": \"system\", \"content\": question_2}]\n",
    ")\n",
    "response.choices[0].message.content"
   ]
  },
  {
   "cell_type": "code",
   "execution_count": 76,
   "metadata": {
    "colab": {
     "base_uri": "https://localhost:8080/",
     "height": 70
    },
    "id": "NmVZ2tQXUrUW",
    "outputId": "5d500665-f563-4714-a538-a5699de91538",
    "scrolled": true
   },
   "outputs": [
    {
     "data": {
      "text/plain": [
       "\"Good question! When you go on vacation, it's a good idea to set your thermostat to at least 55 degrees Fahrenheit to prevent your pipes from freezing. This will help keep your house from getting too cold while you're away.\""
      ]
     },
     "execution_count": 76,
     "metadata": {},
     "output_type": "execute_result"
    }
   ],
   "source": [
    "response = client.ChatCompletion.create(\n",
    "    model = \"gpt-3.5-turbo\",\n",
    "    messages = [\n",
    "        {\"role\": \"system\", \"content\": \"You are an assistant who is helping answer questions. Please answer as if you are talking to an 50 years old child\"},\n",
    "        {\"role\": \"user\", \"content\": question_2}\n",
    "    ]\n",
    ")\n",
    "response.choices[0].message.content"
   ]
  },
  {
   "cell_type": "markdown",
   "metadata": {},
   "source": [
    "# PHASE 2"
   ]
  },
  {
   "cell_type": "markdown",
   "metadata": {},
   "source": [
    "#### In Phase 2, we proceeded by importing the required ISCO dataset and performing data cleaning to prepare it for embedding phase."
   ]
  },
  {
   "cell_type": "code",
   "execution_count": 77,
   "metadata": {
    "colab": {
     "base_uri": "https://localhost:8080/",
     "height": 345
    },
    "id": "cgV-IEEpVmK3",
    "outputId": "33608864-36ba-41f9-eba0-35889712f551",
    "scrolled": true
   },
   "outputs": [
    {
     "data": {
      "text/html": [
       "<div>\n",
       "<style scoped>\n",
       "    .dataframe tbody tr th:only-of-type {\n",
       "        vertical-align: middle;\n",
       "    }\n",
       "\n",
       "    .dataframe tbody tr th {\n",
       "        vertical-align: top;\n",
       "    }\n",
       "\n",
       "    .dataframe thead th {\n",
       "        text-align: right;\n",
       "    }\n",
       "</style>\n",
       "<table border=\"1\" class=\"dataframe\">\n",
       "  <thead>\n",
       "    <tr style=\"text-align: right;\">\n",
       "      <th></th>\n",
       "      <th>ISCO_CODE</th>\n",
       "      <th>INZEGO  ZO HEJURU Z’UBUTEGETSI, INZEGO Z’UBUTEGETSI ZICIRIRITSE N’IZIRI MUNSI YAZO</th>\n",
       "      <th>1</th>\n",
       "      <th>Managers</th>\n",
       "    </tr>\n",
       "  </thead>\n",
       "  <tbody>\n",
       "    <tr>\n",
       "      <th>0</th>\n",
       "      <td>NaN</td>\n",
       "      <td>Abayobozi nshingwabikorwa,abayobozi bo hejuru ...</td>\n",
       "      <td>11</td>\n",
       "      <td>Chief executives, senior officials and legisla...</td>\n",
       "    </tr>\n",
       "    <tr>\n",
       "      <th>1</th>\n",
       "      <td>NaN</td>\n",
       "      <td>Abashyiraho amategeko n’abategetsi bo hejuru</td>\n",
       "      <td>111</td>\n",
       "      <td>Legislators and senior officials</td>\n",
       "    </tr>\n",
       "    <tr>\n",
       "      <th>2</th>\n",
       "      <td>1111.0</td>\n",
       "      <td>Abashyiraho amategeko</td>\n",
       "      <td>1111</td>\n",
       "      <td>Legislators</td>\n",
       "    </tr>\n",
       "    <tr>\n",
       "      <th>3</th>\n",
       "      <td>1112.0</td>\n",
       "      <td>Abayobozi ba leta bo mu rwego rwo hejuru</td>\n",
       "      <td>1112</td>\n",
       "      <td>Senior government officials</td>\n",
       "    </tr>\n",
       "    <tr>\n",
       "      <th>4</th>\n",
       "      <td>1113.0</td>\n",
       "      <td>Abayobozi ba gakondo n’ab’inzego z’ibanze</td>\n",
       "      <td>1113</td>\n",
       "      <td>Traditional chiefs and heads of village</td>\n",
       "    </tr>\n",
       "  </tbody>\n",
       "</table>\n",
       "</div>"
      ],
      "text/plain": [
       "   ISCO_CODE  \\\n",
       "0        NaN   \n",
       "1        NaN   \n",
       "2     1111.0   \n",
       "3     1112.0   \n",
       "4     1113.0   \n",
       "\n",
       "  INZEGO  ZO HEJURU Z’UBUTEGETSI, INZEGO Z’UBUTEGETSI ZICIRIRITSE N’IZIRI MUNSI YAZO  \\\n",
       "0  Abayobozi nshingwabikorwa,abayobozi bo hejuru ...                                   \n",
       "1       Abashyiraho amategeko n’abategetsi bo hejuru                                   \n",
       "2                              Abashyiraho amategeko                                   \n",
       "3           Abayobozi ba leta bo mu rwego rwo hejuru                                   \n",
       "4          Abayobozi ba gakondo n’ab’inzego z’ibanze                                   \n",
       "\n",
       "      1                                           Managers  \n",
       "0    11  Chief executives, senior officials and legisla...  \n",
       "1   111                   Legislators and senior officials  \n",
       "2  1111                                        Legislators  \n",
       "3  1112                        Senior government officials  \n",
       "4  1113            Traditional chiefs and heads of village  "
      ]
     },
     "execution_count": 77,
     "metadata": {},
     "output_type": "execute_result"
    }
   ],
   "source": [
    "# Importing the dataset\n",
    "occupation = pd.read_csv(\"C:/Users/user/Downloads/CODE_CLASSIFICATION_PROJECT/isco_data.csv\")\n",
    "occupation.head()"
   ]
  },
  {
   "cell_type": "markdown",
   "metadata": {},
   "source": [
    "## Data Cleaning"
   ]
  },
  {
   "cell_type": "markdown",
   "metadata": {},
   "source": [
    "#### To streamline the text processing and embedding phase, we began by cleaning our dataset. This involved dropping unnecessary columns and rows, renaming columns for clarity, and filtering the dataset to retain only the relevant rows."
   ]
  },
  {
   "cell_type": "code",
   "execution_count": 78,
   "metadata": {
    "colab": {
     "base_uri": "https://localhost:8080/",
     "height": 206
    },
    "id": "rcUbMgiBXJdM",
    "outputId": "3f3e4dc9-081d-4a09-c188-97a599ceeb9c"
   },
   "outputs": [
    {
     "data": {
      "text/html": [
       "<div>\n",
       "<style scoped>\n",
       "    .dataframe tbody tr th:only-of-type {\n",
       "        vertical-align: middle;\n",
       "    }\n",
       "\n",
       "    .dataframe tbody tr th {\n",
       "        vertical-align: top;\n",
       "    }\n",
       "\n",
       "    .dataframe thead th {\n",
       "        text-align: right;\n",
       "    }\n",
       "</style>\n",
       "<table border=\"1\" class=\"dataframe\">\n",
       "  <thead>\n",
       "    <tr style=\"text-align: right;\">\n",
       "      <th></th>\n",
       "      <th>1</th>\n",
       "      <th>Managers</th>\n",
       "    </tr>\n",
       "  </thead>\n",
       "  <tbody>\n",
       "    <tr>\n",
       "      <th>0</th>\n",
       "      <td>11</td>\n",
       "      <td>Chief executives, senior officials and legisla...</td>\n",
       "    </tr>\n",
       "    <tr>\n",
       "      <th>1</th>\n",
       "      <td>111</td>\n",
       "      <td>Legislators and senior officials</td>\n",
       "    </tr>\n",
       "    <tr>\n",
       "      <th>2</th>\n",
       "      <td>1111</td>\n",
       "      <td>Legislators</td>\n",
       "    </tr>\n",
       "    <tr>\n",
       "      <th>3</th>\n",
       "      <td>1112</td>\n",
       "      <td>Senior government officials</td>\n",
       "    </tr>\n",
       "    <tr>\n",
       "      <th>4</th>\n",
       "      <td>1113</td>\n",
       "      <td>Traditional chiefs and heads of village</td>\n",
       "    </tr>\n",
       "  </tbody>\n",
       "</table>\n",
       "</div>"
      ],
      "text/plain": [
       "      1                                           Managers\n",
       "0    11  Chief executives, senior officials and legisla...\n",
       "1   111                   Legislators and senior officials\n",
       "2  1111                                        Legislators\n",
       "3  1112                        Senior government officials\n",
       "4  1113            Traditional chiefs and heads of village"
      ]
     },
     "execution_count": 78,
     "metadata": {},
     "output_type": "execute_result"
    }
   ],
   "source": [
    "# Drop the first two columns by their column names\n",
    "occupation_cleaned = occupation.drop(columns=[occupation.columns[0], occupation.columns[1]])\n",
    "occupation_cleaned.head()"
   ]
  },
  {
   "cell_type": "code",
   "execution_count": 79,
   "metadata": {
    "id": "H51fvEtfaG4f"
   },
   "outputs": [],
   "source": [
    "occupation_data = occupation_cleaned"
   ]
  },
  {
   "cell_type": "code",
   "execution_count": 80,
   "metadata": {
    "id": "Tf3F9S35aRi0"
   },
   "outputs": [],
   "source": [
    "# Rename the first column to 'isco_code'\n",
    "occupation_data.rename(columns={occupation_data.columns[0]: 'isco_code'}, inplace=True)"
   ]
  },
  {
   "cell_type": "code",
   "execution_count": 81,
   "metadata": {
    "colab": {
     "base_uri": "https://localhost:8080/",
     "height": 206
    },
    "id": "a_EdFvRqaXsu",
    "outputId": "ffe9a854-0cf5-4ec3-9424-85451c58bbe6"
   },
   "outputs": [
    {
     "data": {
      "text/html": [
       "<div>\n",
       "<style scoped>\n",
       "    .dataframe tbody tr th:only-of-type {\n",
       "        vertical-align: middle;\n",
       "    }\n",
       "\n",
       "    .dataframe tbody tr th {\n",
       "        vertical-align: top;\n",
       "    }\n",
       "\n",
       "    .dataframe thead th {\n",
       "        text-align: right;\n",
       "    }\n",
       "</style>\n",
       "<table border=\"1\" class=\"dataframe\">\n",
       "  <thead>\n",
       "    <tr style=\"text-align: right;\">\n",
       "      <th></th>\n",
       "      <th>isco_code</th>\n",
       "      <th>Managers</th>\n",
       "    </tr>\n",
       "  </thead>\n",
       "  <tbody>\n",
       "    <tr>\n",
       "      <th>2</th>\n",
       "      <td>1111</td>\n",
       "      <td>Legislators</td>\n",
       "    </tr>\n",
       "    <tr>\n",
       "      <th>3</th>\n",
       "      <td>1112</td>\n",
       "      <td>Senior government officials</td>\n",
       "    </tr>\n",
       "    <tr>\n",
       "      <th>4</th>\n",
       "      <td>1113</td>\n",
       "      <td>Traditional chiefs and heads of village</td>\n",
       "    </tr>\n",
       "    <tr>\n",
       "      <th>5</th>\n",
       "      <td>1114</td>\n",
       "      <td>Senior officials of special-interest organizat...</td>\n",
       "    </tr>\n",
       "    <tr>\n",
       "      <th>10</th>\n",
       "      <td>1211</td>\n",
       "      <td>Finance managers</td>\n",
       "    </tr>\n",
       "  </tbody>\n",
       "</table>\n",
       "</div>"
      ],
      "text/plain": [
       "    isco_code                                           Managers\n",
       "2        1111                                        Legislators\n",
       "3        1112                        Senior government officials\n",
       "4        1113            Traditional chiefs and heads of village\n",
       "5        1114  Senior officials of special-interest organizat...\n",
       "10       1211                                   Finance managers"
      ]
     },
     "execution_count": 81,
     "metadata": {},
     "output_type": "execute_result"
    }
   ],
   "source": [
    "# Filter rows where the first column \"1\" contains exactly 4 digits\n",
    "filtered_data = occupation_data[occupation_data['isco_code'].astype(str).str.match(r'^\\d{4}$')]\n",
    "filtered_data.head()"
   ]
  },
  {
   "cell_type": "code",
   "execution_count": 82,
   "metadata": {
    "id": "Wba5nWiuaa-J"
   },
   "outputs": [],
   "source": [
    "isco_df = filtered_data"
   ]
  },
  {
   "cell_type": "code",
   "execution_count": 83,
   "metadata": {
    "colab": {
     "base_uri": "https://localhost:8080/"
    },
    "id": "VMNTBTmeak-p",
    "outputId": "cb84497e-eb13-4c89-8d68-5b31bafa206b"
   },
   "outputs": [
    {
     "data": {
      "text/plain": [
       "(432, 2)"
      ]
     },
     "execution_count": 83,
     "metadata": {},
     "output_type": "execute_result"
    }
   ],
   "source": [
    "isco_df.shape"
   ]
  },
  {
   "cell_type": "code",
   "execution_count": 84,
   "metadata": {
    "colab": {
     "base_uri": "https://localhost:8080/",
     "height": 187
    },
    "id": "WL-7oCCofSPt",
    "outputId": "548ce864-50ea-4fd4-b451-014f5d534871"
   },
   "outputs": [
    {
     "name": "stderr",
     "output_type": "stream",
     "text": [
      "C:\\Users\\user\\AppData\\Local\\Temp\\ipykernel_6840\\3180629133.py:2: SettingWithCopyWarning: \n",
      "A value is trying to be set on a copy of a slice from a DataFrame\n",
      "\n",
      "See the caveats in the documentation: https://pandas.pydata.org/pandas-docs/stable/user_guide/indexing.html#returning-a-view-versus-a-copy\n",
      "  isco_df.rename(columns = {'Managers': 'occupation'}, inplace = True)\n"
     ]
    },
    {
     "data": {
      "text/html": [
       "<div>\n",
       "<style scoped>\n",
       "    .dataframe tbody tr th:only-of-type {\n",
       "        vertical-align: middle;\n",
       "    }\n",
       "\n",
       "    .dataframe tbody tr th {\n",
       "        vertical-align: top;\n",
       "    }\n",
       "\n",
       "    .dataframe thead th {\n",
       "        text-align: right;\n",
       "    }\n",
       "</style>\n",
       "<table border=\"1\" class=\"dataframe\">\n",
       "  <thead>\n",
       "    <tr style=\"text-align: right;\">\n",
       "      <th></th>\n",
       "      <th>isco_code</th>\n",
       "      <th>occupation</th>\n",
       "    </tr>\n",
       "  </thead>\n",
       "  <tbody>\n",
       "    <tr>\n",
       "      <th>2</th>\n",
       "      <td>1111</td>\n",
       "      <td>Legislators</td>\n",
       "    </tr>\n",
       "  </tbody>\n",
       "</table>\n",
       "</div>"
      ],
      "text/plain": [
       "   isco_code   occupation\n",
       "2       1111  Legislators"
      ]
     },
     "execution_count": 84,
     "metadata": {},
     "output_type": "execute_result"
    }
   ],
   "source": [
    "#renaming the managers column to occupation\n",
    "isco_df.rename(columns = {'Managers': 'occupation'}, inplace = True)\n",
    "isco_df.head(1)"
   ]
  },
  {
   "cell_type": "code",
   "execution_count": 85,
   "metadata": {
    "colab": {
     "base_uri": "https://localhost:8080/",
     "height": 271
    },
    "id": "CHs41Djbgrgn",
    "outputId": "bba0dc5a-43cc-4e8f-ec4f-38d03fd97475"
   },
   "outputs": [
    {
     "name": "stderr",
     "output_type": "stream",
     "text": [
      "C:\\Users\\user\\AppData\\Local\\Temp\\ipykernel_6840\\3059081966.py:2: SettingWithCopyWarning: \n",
      "A value is trying to be set on a copy of a slice from a DataFrame.\n",
      "Try using .loc[row_indexer,col_indexer] = value instead\n",
      "\n",
      "See the caveats in the documentation: https://pandas.pydata.org/pandas-docs/stable/user_guide/indexing.html#returning-a-view-versus-a-copy\n",
      "  isco_df['isco_code'] = isco_df['isco_code'].astype(str)\n"
     ]
    },
    {
     "data": {
      "text/plain": [
       "isco_code     object\n",
       "occupation    object\n",
       "dtype: object"
      ]
     },
     "execution_count": 85,
     "metadata": {},
     "output_type": "execute_result"
    }
   ],
   "source": [
    "# changing the isco_code data type to string\n",
    "isco_df['isco_code'] = isco_df['isco_code'].astype(str)\n",
    "isco_df.dtypes"
   ]
  },
  {
   "cell_type": "code",
   "execution_count": 86,
   "metadata": {
    "colab": {
     "base_uri": "https://localhost:8080/",
     "height": 417
    },
    "id": "APcTjdnmapa-",
    "outputId": "e9e3021e-ddc9-47a6-86fc-6eec708fb2dd",
    "scrolled": false
   },
   "outputs": [
    {
     "name": "stderr",
     "output_type": "stream",
     "text": [
      "C:\\Users\\user\\AppData\\Local\\Temp\\ipykernel_6840\\804938346.py:2: SettingWithCopyWarning: \n",
      "A value is trying to be set on a copy of a slice from a DataFrame.\n",
      "Try using .loc[row_indexer,col_indexer] = value instead\n",
      "\n",
      "See the caveats in the documentation: https://pandas.pydata.org/pandas-docs/stable/user_guide/indexing.html#returning-a-view-versus-a-copy\n",
      "  isco_df['Occupation_with_code'] = isco_df['occupation'] + ' have the occupational code ' + isco_df['isco_code']\n"
     ]
    },
    {
     "data": {
      "text/html": [
       "<div>\n",
       "<style scoped>\n",
       "    .dataframe tbody tr th:only-of-type {\n",
       "        vertical-align: middle;\n",
       "    }\n",
       "\n",
       "    .dataframe tbody tr th {\n",
       "        vertical-align: top;\n",
       "    }\n",
       "\n",
       "    .dataframe thead th {\n",
       "        text-align: right;\n",
       "    }\n",
       "</style>\n",
       "<table border=\"1\" class=\"dataframe\">\n",
       "  <thead>\n",
       "    <tr style=\"text-align: right;\">\n",
       "      <th></th>\n",
       "      <th>isco_code</th>\n",
       "      <th>occupation</th>\n",
       "      <th>Occupation_with_code</th>\n",
       "    </tr>\n",
       "  </thead>\n",
       "  <tbody>\n",
       "    <tr>\n",
       "      <th>2</th>\n",
       "      <td>1111</td>\n",
       "      <td>Legislators</td>\n",
       "      <td>Legislators have the occupational code 1111</td>\n",
       "    </tr>\n",
       "    <tr>\n",
       "      <th>3</th>\n",
       "      <td>1112</td>\n",
       "      <td>Senior government officials</td>\n",
       "      <td>Senior government officials have the occupatio...</td>\n",
       "    </tr>\n",
       "    <tr>\n",
       "      <th>4</th>\n",
       "      <td>1113</td>\n",
       "      <td>Traditional chiefs and heads of village</td>\n",
       "      <td>Traditional chiefs and heads of village have t...</td>\n",
       "    </tr>\n",
       "    <tr>\n",
       "      <th>5</th>\n",
       "      <td>1114</td>\n",
       "      <td>Senior officials of special-interest organizat...</td>\n",
       "      <td>Senior officials of special-interest organizat...</td>\n",
       "    </tr>\n",
       "    <tr>\n",
       "      <th>10</th>\n",
       "      <td>1211</td>\n",
       "      <td>Finance managers</td>\n",
       "      <td>Finance managers have the occupational code 1211</td>\n",
       "    </tr>\n",
       "  </tbody>\n",
       "</table>\n",
       "</div>"
      ],
      "text/plain": [
       "   isco_code                                         occupation  \\\n",
       "2       1111                                        Legislators   \n",
       "3       1112                        Senior government officials   \n",
       "4       1113            Traditional chiefs and heads of village   \n",
       "5       1114  Senior officials of special-interest organizat...   \n",
       "10      1211                                   Finance managers   \n",
       "\n",
       "                                 Occupation_with_code  \n",
       "2         Legislators have the occupational code 1111  \n",
       "3   Senior government officials have the occupatio...  \n",
       "4   Traditional chiefs and heads of village have t...  \n",
       "5   Senior officials of special-interest organizat...  \n",
       "10   Finance managers have the occupational code 1211  "
      ]
     },
     "execution_count": 86,
     "metadata": {},
     "output_type": "execute_result"
    }
   ],
   "source": [
    "# joining the text from the columns with additional text in between\n",
    "isco_df['Occupation_with_code'] = isco_df['occupation'] + ' have the occupational code ' + isco_df['isco_code']\n",
    "isco_df.head()"
   ]
  },
  {
   "cell_type": "markdown",
   "metadata": {},
   "source": [
    "# PHASE 3"
   ]
  },
  {
   "cell_type": "markdown",
   "metadata": {},
   "source": [
    "#### In Phase 3, we advanced to embedding the data to enable efficient text classification and retrieval."
   ]
  },
  {
   "cell_type": "code",
   "execution_count": 88,
   "metadata": {
    "id": "mfU3dUx51c_P"
   },
   "outputs": [],
   "source": [
    "# Function to generate embeddings\n",
    "def get_embedding(text, model=\"text-embedding-ada-002\"):\n",
    "    # Replace newlines with spaces to avoid errors\n",
    "    text = text.replace(\"\\n\", \" \")\n",
    "    # Calling the OpenAI API to create embeddings\n",
    "    response = openai.Embedding.create(input=text, model=model)\n",
    "    # Return the embedding vector\n",
    "    return response['data'][0]['embedding']\n"
   ]
  },
  {
   "cell_type": "code",
   "execution_count": 90,
   "metadata": {
    "colab": {
     "base_uri": "https://localhost:8080/"
    },
    "id": "rsClajUG8jNY",
    "outputId": "af74f615-7d1e-449a-ea0b-34bdbb945a1b"
   },
   "outputs": [
    {
     "data": {
      "text/plain": [
       "1536"
      ]
     },
     "execution_count": 90,
     "metadata": {},
     "output_type": "execute_result"
    }
   ],
   "source": [
    "# Getting the length of the embedding for the first row of `isco_df`\n",
    "len(get_embedding(isco_df['Occupation_with_code'].iloc[0]))"
   ]
  },
  {
   "cell_type": "code",
   "execution_count": 51,
   "metadata": {
    "colab": {
     "base_uri": "https://localhost:8080/"
    },
    "id": "ehcOM_JH-fEN",
    "outputId": "bdf1fed3-dd60-40fc-af36-f1ecfa230d87"
   },
   "outputs": [
    {
     "name": "stdout",
     "output_type": "stream",
     "text": [
      "CPU times: total: 0 ns\n",
      "Wall time: 0 ns\n"
     ]
    }
   ],
   "source": [
    "%%time\n",
    "\n",
    "# Creating the Embeddings in the database\n",
    "isco_df['embeddings'] = isco_df['Occupation_with_code'].apply(get_embedding)\n",
    "isco_df.to_csv('/content/isco_data_with_embeddings.csv', index = False)\n",
    "isco_df.to_pickle(\"C:/Users/user/Downloads/CODE_CLASSIFICATION_PROJECT/isco_data_with_embeddings.pkl\")"
   ]
  },
  {
   "cell_type": "code",
   "execution_count": 52,
   "metadata": {
    "colab": {
     "base_uri": "https://localhost:8080/",
     "height": 414
    },
    "id": "nlPld1RB9Bd_",
    "outputId": "e1e05e59-bcd0-4336-a449-a9d506a74db3"
   },
   "outputs": [
    {
     "data": {
      "text/html": [
       "<div>\n",
       "<style scoped>\n",
       "    .dataframe tbody tr th:only-of-type {\n",
       "        vertical-align: middle;\n",
       "    }\n",
       "\n",
       "    .dataframe tbody tr th {\n",
       "        vertical-align: top;\n",
       "    }\n",
       "\n",
       "    .dataframe thead th {\n",
       "        text-align: right;\n",
       "    }\n",
       "</style>\n",
       "<table border=\"1\" class=\"dataframe\">\n",
       "  <thead>\n",
       "    <tr style=\"text-align: right;\">\n",
       "      <th></th>\n",
       "      <th>isco_code</th>\n",
       "      <th>occupation</th>\n",
       "      <th>Occupation_with_code</th>\n",
       "    </tr>\n",
       "  </thead>\n",
       "  <tbody>\n",
       "    <tr>\n",
       "      <th>2</th>\n",
       "      <td>1111</td>\n",
       "      <td>Legislators</td>\n",
       "      <td>Legislators have the occupational code 1111</td>\n",
       "    </tr>\n",
       "    <tr>\n",
       "      <th>3</th>\n",
       "      <td>1112</td>\n",
       "      <td>Senior government officials</td>\n",
       "      <td>Senior government officials have the occupatio...</td>\n",
       "    </tr>\n",
       "    <tr>\n",
       "      <th>4</th>\n",
       "      <td>1113</td>\n",
       "      <td>Traditional chiefs and heads of village</td>\n",
       "      <td>Traditional chiefs and heads of village have t...</td>\n",
       "    </tr>\n",
       "    <tr>\n",
       "      <th>5</th>\n",
       "      <td>1114</td>\n",
       "      <td>Senior officials of special-interest organizat...</td>\n",
       "      <td>Senior officials of special-interest organizat...</td>\n",
       "    </tr>\n",
       "    <tr>\n",
       "      <th>10</th>\n",
       "      <td>1211</td>\n",
       "      <td>Finance managers</td>\n",
       "      <td>Finance managers have the occupational code 1211</td>\n",
       "    </tr>\n",
       "  </tbody>\n",
       "</table>\n",
       "</div>"
      ],
      "text/plain": [
       "   isco_code                                         occupation  \\\n",
       "2       1111                                        Legislators   \n",
       "3       1112                        Senior government officials   \n",
       "4       1113            Traditional chiefs and heads of village   \n",
       "5       1114  Senior officials of special-interest organizat...   \n",
       "10      1211                                   Finance managers   \n",
       "\n",
       "                                 Occupation_with_code  \n",
       "2         Legislators have the occupational code 1111  \n",
       "3   Senior government officials have the occupatio...  \n",
       "4   Traditional chiefs and heads of village have t...  \n",
       "5   Senior officials of special-interest organizat...  \n",
       "10   Finance managers have the occupational code 1211  "
      ]
     },
     "execution_count": 52,
     "metadata": {},
     "output_type": "execute_result"
    }
   ],
   "source": [
    "isco_df.head()"
   ]
  },
  {
   "cell_type": "code",
   "execution_count": 61,
   "metadata": {
    "colab": {
     "base_uri": "https://localhost:8080/"
    },
    "id": "RztiQjyn9e8V",
    "outputId": "9a4a7d35-89b4-49e9-8abb-01e72c2d5573"
   },
   "outputs": [
    {
     "name": "stdout",
     "output_type": "stream",
     "text": [
      "CPU times: total: 15.6 ms\n",
      "Wall time: 3 ms\n"
     ]
    }
   ],
   "source": [
    "%%time\n",
    "\n"
   ]
  },
  {
   "cell_type": "code",
   "execution_count": 91,
   "metadata": {
    "colab": {
     "base_uri": "https://localhost:8080/",
     "height": 132
    },
    "id": "jO3QU_9ZC6WP",
    "outputId": "47ccb16e-7007-41dd-e7b1-10c235c165c8",
    "scrolled": true
   },
   "outputs": [
    {
     "name": "stdout",
     "output_type": "stream",
     "text": [
      "CPU times: total: 15.6 ms\n",
      "Wall time: 172 ms\n"
     ]
    },
    {
     "data": {
      "text/html": [
       "<div>\n",
       "<style scoped>\n",
       "    .dataframe tbody tr th:only-of-type {\n",
       "        vertical-align: middle;\n",
       "    }\n",
       "\n",
       "    .dataframe tbody tr th {\n",
       "        vertical-align: top;\n",
       "    }\n",
       "\n",
       "    .dataframe thead th {\n",
       "        text-align: right;\n",
       "    }\n",
       "</style>\n",
       "<table border=\"1\" class=\"dataframe\">\n",
       "  <thead>\n",
       "    <tr style=\"text-align: right;\">\n",
       "      <th></th>\n",
       "      <th>isco_code</th>\n",
       "      <th>occupation</th>\n",
       "      <th>Occupation_with_code</th>\n",
       "      <th>embeddings</th>\n",
       "    </tr>\n",
       "  </thead>\n",
       "  <tbody>\n",
       "    <tr>\n",
       "      <th>2</th>\n",
       "      <td>1111</td>\n",
       "      <td>Legislators</td>\n",
       "      <td>Legislators have the occupational code 1111</td>\n",
       "      <td>[-0.005412097088992596, 0.005134553648531437, ...</td>\n",
       "    </tr>\n",
       "    <tr>\n",
       "      <th>3</th>\n",
       "      <td>1112</td>\n",
       "      <td>Senior government officials</td>\n",
       "      <td>Senior government officials have the occupatio...</td>\n",
       "      <td>[0.0018112791003659368, -0.00980456918478012, ...</td>\n",
       "    </tr>\n",
       "    <tr>\n",
       "      <th>4</th>\n",
       "      <td>1113</td>\n",
       "      <td>Traditional chiefs and heads of village</td>\n",
       "      <td>Traditional chiefs and heads of village have t...</td>\n",
       "      <td>[-0.0007852965500205755, 0.005625859834253788,...</td>\n",
       "    </tr>\n",
       "    <tr>\n",
       "      <th>5</th>\n",
       "      <td>1114</td>\n",
       "      <td>Senior officials of special-interest organizat...</td>\n",
       "      <td>Senior officials of special-interest organizat...</td>\n",
       "      <td>[-0.014540646225214005, -0.015147055499255657,...</td>\n",
       "    </tr>\n",
       "    <tr>\n",
       "      <th>10</th>\n",
       "      <td>1211</td>\n",
       "      <td>Finance managers</td>\n",
       "      <td>Finance managers have the occupational code 1211</td>\n",
       "      <td>[-0.0036192494444549084, -0.011559505946934223...</td>\n",
       "    </tr>\n",
       "  </tbody>\n",
       "</table>\n",
       "</div>"
      ],
      "text/plain": [
       "   isco_code                                         occupation  \\\n",
       "2       1111                                        Legislators   \n",
       "3       1112                        Senior government officials   \n",
       "4       1113            Traditional chiefs and heads of village   \n",
       "5       1114  Senior officials of special-interest organizat...   \n",
       "10      1211                                   Finance managers   \n",
       "\n",
       "                                 Occupation_with_code  \\\n",
       "2         Legislators have the occupational code 1111   \n",
       "3   Senior government officials have the occupatio...   \n",
       "4   Traditional chiefs and heads of village have t...   \n",
       "5   Senior officials of special-interest organizat...   \n",
       "10   Finance managers have the occupational code 1211   \n",
       "\n",
       "                                           embeddings  \n",
       "2   [-0.005412097088992596, 0.005134553648531437, ...  \n",
       "3   [0.0018112791003659368, -0.00980456918478012, ...  \n",
       "4   [-0.0007852965500205755, 0.005625859834253788,...  \n",
       "5   [-0.014540646225214005, -0.015147055499255657,...  \n",
       "10  [-0.0036192494444549084, -0.011559505946934223...  "
      ]
     },
     "execution_count": 91,
     "metadata": {},
     "output_type": "execute_result"
    }
   ],
   "source": [
    "%%time\n",
    "isco_df_2 = pd.read_pickle(\"C:/Users/user/Downloads/CODE_CLASSIFICATION_PROJECT/isco_data_with_embeddings_2.pkl\")\n",
    "isco_df_2.head()"
   ]
  },
  {
   "cell_type": "markdown",
   "metadata": {},
   "source": [
    "# PHASE 4"
   ]
  },
  {
   "cell_type": "markdown",
   "metadata": {
    "id": "jp-No2yfPTHH"
   },
   "source": [
    "**Building a RAG System**"
   ]
  },
  {
   "cell_type": "code",
   "execution_count": 92,
   "metadata": {
    "id": "Hv6hYCHdDdKM"
   },
   "outputs": [],
   "source": [
    "# Step 1: Function to generate embeddings\n",
    "def get_embedding(text, model=\"text-embedding-ada-002\"):\n",
    "    text = text.replace(\"\\n\", \" \")\n",
    "    response = client.Embedding.create(input=text, model=model)\n",
    "    return response['data'][0]['embedding']"
   ]
  },
  {
   "cell_type": "code",
   "execution_count": 93,
   "metadata": {
    "id": "U7RlmKw9PFf1"
   },
   "outputs": [],
   "source": [
    "# Step 2: Function to calculate similarity (dot product)\n",
    "def calculate_similarity(query_embedding, db_embeddings):\n",
    "    similarities = np.dot(db_embeddings, query_embedding)\n",
    "    return similarities"
   ]
  },
  {
   "cell_type": "code",
   "execution_count": 94,
   "metadata": {
    "id": "2uhg1Ah6P6-D"
   },
   "outputs": [],
   "source": [
    "# Step 3: Query function to find and retrieve the top result\n",
    "def query_system(question, df, model=\"text-embedding-ada-002\"):\n",
    "    # Generate embedding for the query\n",
    "    query_embedding = get_embedding(question, model=model)\n",
    "\n",
    "    # Calculate similarities\n",
    "    db_embeddings = np.vstack(df['embeddings'])  # Convert list of embeddings to matrix\n",
    "    similarities = calculate_similarity(query_embedding, db_embeddings)\n",
    "\n",
    "    # Retrieve the most similar row\n",
    "    top_idx = np.argmax(similarities)\n",
    "    retrieved_row = df.iloc[top_idx]\n",
    "\n",
    "    return retrieved_row"
   ]
  },
  {
   "cell_type": "code",
   "execution_count": 95,
   "metadata": {
    "id": "l2MrkblsQBX7"
   },
   "outputs": [],
   "source": [
    "# Step 4: Generate response using GPT-3.5 Turbo\n",
    "def generate_response(question, retrieved_row):\n",
    "    # Format the context\n",
    "    context = f\"The closest match is: {retrieved_row['Occupation_with_code']}.\"\n",
    "\n",
    "    # Use GPT-3.5 Turbo to generate a response\n",
    "    response = openai.ChatCompletion.create(\n",
    "    model=\"gpt-3.5-turbo\",\n",
    "    messages=[\n",
    "        {\n",
    "            \"role\": \"system\",\n",
    "            \"content\": (\n",
    "                \"You are a helpful assistant trained to classify job descriptions and provide occupation codes based on context. \"\n",
    "                \"Always respond with: 'The closest match for [query] is the occupational code [code] for [occupation description].'\"\n",
    "            ),\n",
    "        },\n",
    "        {\n",
    "            \"role\": \"user\",\n",
    "            \"content\": f\"Based on this context: {context}, answer the query: {question}\"\n",
    "        }\n",
    "    ]\n",
    ")\n",
    "\n",
    "\n",
    "    return response['choices'][0]['message']['content']"
   ]
  },
  {
   "cell_type": "code",
   "execution_count": 68,
   "metadata": {
    "colab": {
     "base_uri": "https://localhost:8080/"
    },
    "id": "dXyA3lfXRcsn",
    "outputId": "550b032b-cd2f-49ad-ba75-75b2ff0047c4"
   },
   "outputs": [
    {
     "name": "stdout",
     "output_type": "stream",
     "text": [
      "The closest match for \"I am a servant at hotel fatima\" is the occupational code 4319 for Other Hospitality Workers.\n"
     ]
    }
   ],
   "source": [
    "# Input query\n",
    "query = \"I am a servant at hotel fatima\"\n",
    "\n",
    "# Retrieve the most relevant row\n",
    "retrieved_row = query_system(query, isco_df_2)\n",
    "\n",
    "# Generate the response\n",
    "response = generate_response(query, retrieved_row)\n",
    "print(response)"
   ]
  },
  {
   "cell_type": "code",
   "execution_count": 96,
   "metadata": {
    "colab": {
     "base_uri": "https://localhost:8080/"
    },
    "id": "dFpCH7qjUsA3",
    "outputId": "50710d94-1a5f-4f08-f543-60124a678ce2"
   },
   "outputs": [
    {
     "name": "stdout",
     "output_type": "stream",
     "text": [
      "The closest match for this person is the occupational code 5131 for Waiters.\n"
     ]
    }
   ],
   "source": [
    "query = \"This person works as a waiter at restaurant?\"\n",
    "\n",
    "# Retrieve the most relevant row\n",
    "retrieved_row = query_system(query, isco_df_2)\n",
    "\n",
    "# Generate the response\n",
    "response = generate_response(query, retrieved_row)\n",
    "print(response)"
   ]
  },
  {
   "cell_type": "code",
   "execution_count": 55,
   "metadata": {
    "colab": {
     "base_uri": "https://localhost:8080/"
    },
    "id": "PVIn-UmRZW_d",
    "outputId": "f3ed0a17-0ab3-4762-ef6f-600585599a3b"
   },
   "outputs": [
    {
     "name": "stdout",
     "output_type": "stream",
     "text": [
      "The closest match for \"This person works as a servant at restaurant?\" is the occupational code 5131 for Waiters.\n"
     ]
    }
   ],
   "source": [
    "query = \"This person works as a servant at restaurant?\"\n",
    "\n",
    "# Retrieve the most relevant row\n",
    "retrieved_row = query_system(query, isco_df_2)\n",
    "\n",
    "# Generate the response\n",
    "response = generate_response(query, retrieved_row)\n",
    "print(response)"
   ]
  },
  {
   "cell_type": "code",
   "execution_count": null,
   "metadata": {},
   "outputs": [],
   "source": [
    "### This work is classified for It"
   ]
  },
  {
   "cell_type": "markdown",
   "metadata": {},
   "source": []
  }
 ],
 "metadata": {
  "accelerator": "GPU",
  "colab": {
   "gpuType": "T4",
   "provenance": []
  },
  "kernelspec": {
   "display_name": "Python 3 (ipykernel)",
   "language": "python",
   "name": "python3"
  },
  "language_info": {
   "codemirror_mode": {
    "name": "ipython",
    "version": 3
   },
   "file_extension": ".py",
   "mimetype": "text/x-python",
   "name": "python",
   "nbconvert_exporter": "python",
   "pygments_lexer": "ipython3",
   "version": "3.9.12"
  }
 },
 "nbformat": 4,
 "nbformat_minor": 1
}
